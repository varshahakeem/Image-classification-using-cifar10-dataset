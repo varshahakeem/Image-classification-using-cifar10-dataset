{
 "cells": [
  {
   "cell_type": "code",
   "execution_count": 73,
   "id": "35a3ebbf",
   "metadata": {},
   "outputs": [],
   "source": [
    "import tensorflow as tf\n",
    "from tensorflow.keras import datasets, layers, models\n",
    "import matplotlib.pyplot as plt\n",
    "import numpy as np"
   ]
  },
  {
   "cell_type": "code",
   "execution_count": 74,
   "id": "e07e9ed1",
   "metadata": {},
   "outputs": [],
   "source": [
    "import ssl\n",
    "ssl._create_default_https_context=ssl._create_unverified_context"
   ]
  },
  {
   "cell_type": "code",
   "execution_count": 75,
   "id": "f28bc47e",
   "metadata": {},
   "outputs": [
    {
     "data": {
      "text/plain": [
       "(50000, 32, 32, 3)"
      ]
     },
     "execution_count": 75,
     "metadata": {},
     "output_type": "execute_result"
    }
   ],
   "source": [
    "(X_train,y_train),(X_test,y_Test)=datasets.cifar10.load_data()\n",
    "X_train.shape"
   ]
  },
  {
   "cell_type": "code",
   "execution_count": 76,
   "id": "11b8acc0",
   "metadata": {},
   "outputs": [
    {
     "data": {
      "text/plain": [
       "(10000, 32, 32, 3)"
      ]
     },
     "execution_count": 76,
     "metadata": {},
     "output_type": "execute_result"
    }
   ],
   "source": [
    "X_test.shape"
   ]
  },
  {
   "cell_type": "code",
   "execution_count": 77,
   "id": "aca38c4f",
   "metadata": {},
   "outputs": [
    {
     "data": {
      "text/plain": [
       "array([[6],\n",
       "       [9],\n",
       "       [9],\n",
       "       [4],\n",
       "       [1]], dtype=uint8)"
      ]
     },
     "execution_count": 77,
     "metadata": {},
     "output_type": "execute_result"
    }
   ],
   "source": [
    "y_train[:5]"
   ]
  },
  {
   "cell_type": "code",
   "execution_count": 78,
   "id": "1bb12b5b",
   "metadata": {},
   "outputs": [
    {
     "data": {
      "text/plain": [
       "array([6, 9, 9, 4, 1], dtype=uint8)"
      ]
     },
     "execution_count": 78,
     "metadata": {},
     "output_type": "execute_result"
    }
   ],
   "source": [
    "y_train=y_train.reshape(-1,)\n",
    "y_train[:5]"
   ]
  },
  {
   "cell_type": "code",
   "execution_count": 79,
   "id": "fa003e9f",
   "metadata": {},
   "outputs": [],
   "source": [
    "y_Test=y_Test.reshape(-1,)"
   ]
  },
  {
   "cell_type": "code",
   "execution_count": 80,
   "id": "320f9524",
   "metadata": {},
   "outputs": [],
   "source": [
    "classes=[\"airplane\",\"automobile\",\"bird\",\"cat\",\"deer\",\"dog\",\"frog\",\"horse\",\"ship\",\"truck\"]"
   ]
  },
  {
   "cell_type": "code",
   "execution_count": 81,
   "id": "45b9d587",
   "metadata": {},
   "outputs": [],
   "source": [
    " def plot_sample(X,y,index):\n",
    "        plt.figure(figsize=(15,2))\n",
    "        plt.imshow(X[index])\n",
    "        plt.xlabel(classes[y[index]])"
   ]
  },
  {
   "cell_type": "code",
   "execution_count": 82,
   "id": "060aa5c8",
   "metadata": {},
   "outputs": [
    {
     "data": {
      "image/png": "[encoded data removed]",
      "text/plain": [
       "<Figure size 1500x200 with 1 Axes>"
      ]
     },
     "metadata": {},
     "output_type": "display_data"
    }
   ],
   "source": [
    "plot_sample(X_train,y_train,0)"
   ]
  },
  {
   "cell_type": "code",
   "execution_count": 83,
   "id": "12d87776",
   "metadata": {},
   "outputs": [],
   "source": [
    "#Normalization\n",
    "X_train=X_train/255.0\n",
    "X_test=X_test/255.0"
   ]
  },
  {
   "cell_type": "code",
   "execution_count": 84,
   "id": "acc73d1e",
   "metadata": {},
   "outputs": [
    {
     "name": "stdout",
     "output_type": "stream",
     "text": [
      "Epoch 1/5\n",
      "1563/1563 [==============================] - 128s 81ms/step - loss: 1.8124 - accuracy: 0.3552\n",
      "Epoch 2/5\n",
      "1563/1563 [==============================] - 125s 80ms/step - loss: 1.6231 - accuracy: 0.4260\n",
      "Epoch 3/5\n",
      "1563/1563 [==============================] - 124s 79ms/step - loss: 1.5413 - accuracy: 0.4564\n",
      "Epoch 4/5\n",
      "1563/1563 [==============================] - 125s 80ms/step - loss: 1.4812 - accuracy: 0.4781\n",
      "Epoch 5/5\n",
      "1563/1563 [==============================] - 124s 80ms/step - loss: 1.4314 - accuracy: 0.4958\n"
     ]
    },
    {
     "data": {
      "text/plain": [
       "<keras.callbacks.History at 0x12e196f6d60>"
      ]
     },
     "execution_count": 84,
     "metadata": {},
     "output_type": "execute_result"
    }
   ],
   "source": [
    "ann=models.Sequential([\n",
    "    layers.Flatten(input_shape=(32,32,3)),\n",
    "    layers.Dense(3000,activation='relu'),\n",
    "    layers.Dense(1000,activation='relu'),\n",
    "    layers.Dense(10,activation='sigmoid')\n",
    "])\n",
    "ann.compile(optimizer='SGD',\n",
    "           loss='sparse_categorical_crossentropy',\n",
    "            metrics=['accuracy'])\n",
    "ann.fit(X_train,y_train,epochs=5)"
   ]
  },
  {
   "cell_type": "code",
   "execution_count": 85,
   "id": "25beb73c",
   "metadata": {},
   "outputs": [
    {
     "name": "stdout",
     "output_type": "stream",
     "text": [
      "313/313 [==============================] - 9s 24ms/step - loss: 1.5226 - accuracy: 0.4626\n"
     ]
    },
    {
     "data": {
      "text/plain": [
       "[1.5225751399993896, 0.4625999927520752]"
      ]
     },
     "execution_count": 85,
     "metadata": {},
     "output_type": "execute_result"
    }
   ],
   "source": [
    "ann.evaluate(X_test,y_Test)"
   ]
  },
  {
   "cell_type": "code",
   "execution_count": 86,
   "id": "0d5b48b6",
   "metadata": {},
   "outputs": [
    {
     "name": "stdout",
     "output_type": "stream",
     "text": [
      "313/313 [==============================] - 7s 23ms/step\n",
      "classification Report:                precision    recall  f1-score   support\n",
      "\n",
      "           0       0.65      0.41      0.50      1000\n",
      "           1       0.79      0.37      0.50      1000\n",
      "           2       0.36      0.33      0.35      1000\n",
      "           3       0.30      0.52      0.38      1000\n",
      "           4       0.35      0.51      0.42      1000\n",
      "           5       0.61      0.16      0.26      1000\n",
      "           6       0.54      0.48      0.51      1000\n",
      "           7       0.40      0.69      0.51      1000\n",
      "           8       0.61      0.62      0.62      1000\n",
      "           9       0.56      0.53      0.54      1000\n",
      "\n",
      "    accuracy                           0.46     10000\n",
      "   macro avg       0.52      0.46      0.46     10000\n",
      "weighted avg       0.52      0.46      0.46     10000\n",
      "\n"
     ]
    }
   ],
   "source": [
    "from sklearn.metrics import confusion_matrix, classification_report\n",
    "import numpy as np\n",
    "y_pred=ann.predict(X_test)\n",
    "y_pred_classes=[np.argmax(element) for element in y_pred]\n",
    "\n",
    "print(\"classification Report: \",classification_report(y_Test,y_pred_classes))"
   ]
  },
  {
   "cell_type": "code",
   "execution_count": 87,
   "id": "99057043",
   "metadata": {},
   "outputs": [],
   "source": [
    "cnn=models.Sequential([\n",
    "    #cnn\n",
    "    layers.Conv2D(filters=32,kernel_size=(3,3),activation='relu', input_shape=(32,32,3)),\n",
    "    layers.MaxPooling2D((2,2)),\n",
    "    \n",
    "    layers.Conv2D(filters=64, kernel_size=(3,3), activation='relu'),\n",
    "    layers.MaxPooling2D((2,2)),\n",
    "    #dense\n",
    "    layers.Flatten(),\n",
    "    layers.Dense(64,activation='relu'),\n",
    "    layers.Dense(10,activation='softmax')\n",
    "])"
   ]
  },
  {
   "cell_type": "code",
   "execution_count": 88,
   "id": "678bf58e",
   "metadata": {},
   "outputs": [],
   "source": [
    "cnn.compile(optimizer='adam',\n",
    "             loss='sparse_categorical_crossentropy',\n",
    "             metrics=['accuracy'])"
   ]
  },
  {
   "cell_type": "code",
   "execution_count": 89,
   "id": "6095484c",
   "metadata": {},
   "outputs": [
    {
     "name": "stdout",
     "output_type": "stream",
     "text": [
      "Epoch 1/10\n",
      "1563/1563 [==============================] - 46s 29ms/step - loss: 1.4542 - accuracy: 0.4776\n",
      "Epoch 2/10\n",
      "1563/1563 [==============================] - 45s 29ms/step - loss: 1.1062 - accuracy: 0.6109\n",
      "Epoch 3/10\n",
      "1563/1563 [==============================] - 45s 29ms/step - loss: 0.9745 - accuracy: 0.6598\n",
      "Epoch 4/10\n",
      "1563/1563 [==============================] - 45s 29ms/step - loss: 0.8890 - accuracy: 0.6923\n",
      "Epoch 5/10\n",
      "1563/1563 [==============================] - 47s 30ms/step - loss: 0.8221 - accuracy: 0.7141\n",
      "Epoch 6/10\n",
      "1563/1563 [==============================] - 46s 29ms/step - loss: 0.7638 - accuracy: 0.7353\n",
      "Epoch 7/10\n",
      "1563/1563 [==============================] - 46s 29ms/step - loss: 0.7151 - accuracy: 0.7502\n",
      "Epoch 8/10\n",
      "1563/1563 [==============================] - 46s 29ms/step - loss: 0.6685 - accuracy: 0.7682\n",
      "Epoch 9/10\n",
      "1563/1563 [==============================] - 48s 31ms/step - loss: 0.6291 - accuracy: 0.7812\n",
      "Epoch 10/10\n",
      "1563/1563 [==============================] - 45s 29ms/step - loss: 0.5889 - accuracy: 0.7944\n"
     ]
    },
    {
     "data": {
      "text/plain": [
       "<keras.callbacks.History at 0x12e194963d0>"
      ]
     },
     "execution_count": 89,
     "metadata": {},
     "output_type": "execute_result"
    }
   ],
   "source": [
    "cnn.fit(X_train,y_train,epochs=10)"
   ]
  },
  {
   "cell_type": "code",
   "execution_count": 90,
   "id": "b375f007",
   "metadata": {},
   "outputs": [
    {
     "name": "stdout",
     "output_type": "stream",
     "text": [
      "313/313 [==============================] - 4s 9ms/step - loss: 0.9556 - accuracy: 0.6874\n"
     ]
    },
    {
     "data": {
      "text/plain": [
       "[0.9555851817131042, 0.6873999834060669]"
      ]
     },
     "execution_count": 90,
     "metadata": {},
     "output_type": "execute_result"
    }
   ],
   "source": [
    "cnn.evaluate(X_test,y_Test)\n"
   ]
  },
  {
   "cell_type": "code",
   "execution_count": null,
   "id": "699c6749",
   "metadata": {},
   "outputs": [],
   "source": [
    " "
   ]
  },
  {
   "cell_type": "code",
   "execution_count": null,
   "id": "337233c2",
   "metadata": {},
   "outputs": [],
   "source": [
    " "
   ]
  },
  {
   "cell_type": "code",
   "execution_count": 91,
   "id": "52d5aaf0",
   "metadata": {},
   "outputs": [
    {
     "name": "stdout",
     "output_type": "stream",
     "text": [
      "313/313 [==============================] - 3s 8ms/step\n"
     ]
    },
    {
     "data": {
      "text/plain": [
       "array([[7.9210848e-05, 5.6505447e-05, 1.5188197e-03, 6.6426277e-01,\n",
       "        5.0160935e-04, 9.0860687e-03, 2.3351128e-03, 5.1018460e-06,\n",
       "        3.2213026e-01, 2.4525531e-05],\n",
       "       [1.1662075e-02, 4.2233085e-03, 6.4311287e-05, 3.3290628e-06,\n",
       "        1.5194973e-06, 5.3077812e-08, 3.8277848e-09, 9.0053810e-08,\n",
       "        9.8382437e-01, 2.2094793e-04],\n",
       "       [2.2635655e-03, 4.1271254e-02, 1.4498284e-04, 4.9399296e-03,\n",
       "        5.6081865e-04, 5.9902004e-04, 3.2054395e-05, 2.1136241e-04,\n",
       "        9.0064663e-01, 4.9330492e-02],\n",
       "       [4.3097478e-01, 1.0212102e-03, 6.0017873e-02, 4.9701659e-04,\n",
       "        5.0675916e-03, 2.0169813e-05, 3.4211153e-06, 8.3317245e-05,\n",
       "        5.0209105e-01, 2.2360796e-04],\n",
       "       [1.1939181e-07, 1.4342855e-06, 9.5363026e-03, 4.6516284e-01,\n",
       "        3.3412328e-01, 2.4367269e-02, 1.6646814e-01, 9.1655584e-06,\n",
       "        2.8351284e-04, 4.8005866e-05]], dtype=float32)"
      ]
     },
     "execution_count": 91,
     "metadata": {},
     "output_type": "execute_result"
    }
   ],
   "source": [
    "y_pred=cnn.predict(X_test)\n",
    "y_pred[:5]"
   ]
  },
  {
   "cell_type": "code",
   "execution_count": 92,
   "id": "cfc997d4",
   "metadata": {},
   "outputs": [
    {
     "data": {
      "text/plain": [
       "[3, 8, 8, 8, 3]"
      ]
     },
     "execution_count": 92,
     "metadata": {},
     "output_type": "execute_result"
    }
   ],
   "source": [
    "y_classes=[np.argmax(element) for element in y_pred]\n",
    "y_classes[:5]"
   ]
  },
  {
   "cell_type": "code",
   "execution_count": 93,
   "id": "23c84a2f",
   "metadata": {},
   "outputs": [
    {
     "data": {
      "text/plain": [
       "array([3, 8, 8, 0, 6], dtype=uint8)"
      ]
     },
     "execution_count": 93,
     "metadata": {},
     "output_type": "execute_result"
    }
   ],
   "source": [
    "y_Test[:5]"
   ]
  },
  {
   "cell_type": "code",
   "execution_count": 94,
   "id": "1e86ee8a",
   "metadata": {},
   "outputs": [
    {
     "data": {
      "image/png": "[encoded data removed]",
      "text/plain": [
       "<Figure size 1500x200 with 1 Axes>"
      ]
     },
     "metadata": {},
     "output_type": "display_data"
    }
   ],
   "source": [
    "plot_sample(X_test,y_Test,1)"
   ]
  },
  {
   "cell_type": "code",
   "execution_count": 96,
   "id": "9178f678",
   "metadata": {},
   "outputs": [
    {
     "data": {
      "text/plain": [
       "'ship'"
      ]
     },
     "execution_count": 96,
     "metadata": {},
     "output_type": "execute_result"
    }
   ],
   "source": [
    "classes[y_classes[1]]"
   ]
  },
  {
   "cell_type": "code",
   "execution_count": 98,
   "id": "a2a89cba",
   "metadata": {},
   "outputs": [
    {
     "name": "stdout",
     "output_type": "stream",
     "text": [
      "Classification Report:                precision    recall  f1-score   support\n",
      "\n",
      "           0       0.79      0.61      0.69      1000\n",
      "           1       0.91      0.67      0.77      1000\n",
      "           2       0.61      0.57      0.59      1000\n",
      "           3       0.45      0.60      0.51      1000\n",
      "           4       0.66      0.61      0.63      1000\n",
      "           5       0.64      0.61      0.63      1000\n",
      "           6       0.83      0.71      0.76      1000\n",
      "           7       0.73      0.76      0.75      1000\n",
      "           8       0.73      0.87      0.79      1000\n",
      "           9       0.69      0.86      0.76      1000\n",
      "\n",
      "    accuracy                           0.69     10000\n",
      "   macro avg       0.70      0.69      0.69     10000\n",
      "weighted avg       0.70      0.69      0.69     10000\n",
      "\n"
     ]
    }
   ],
   "source": [
    "print(\"Classification Report: \", classification_report(y_Test,y_classes))"
   ]
  },
  {
   "cell_type": "code",
   "execution_count": null,
   "id": "f3b97cae",
   "metadata": {},
   "outputs": [],
   "source": []
  }
 ],
 "metadata": {
  "kernelspec": {
   "display_name": "Python 3 (ipykernel)",
   "language": "python",
   "name": "python3"
  },
  "language_info": {
   "codemirror_mode": {
    "name": "ipython",
    "version": 3
   },
   "file_extension": ".py",
   "mimetype": "text/x-python",
   "name": "python",
   "nbconvert_exporter": "python",
   "pygments_lexer": "ipython3",
   "version": "3.9.13"
  }
 },
 "nbformat": 4,
 "nbformat_minor": 5
}
